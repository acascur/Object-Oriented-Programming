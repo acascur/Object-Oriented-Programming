{
 "cells": [
  {
   "cell_type": "markdown",
   "metadata": {},
   "source": [
    "## Clase Complex"
   ]
  },
  {
   "cell_type": "markdown",
   "metadata": {},
   "source": [
    "Esta clase permitirá construir objetos que tendra como atributos el módulo y fase de un número complejo y con los que se podrá hacer una serie de operaciones.\n",
    "\n",
    "Como es un ejercicio implementado ya en clase, en este apartado se nos pedía implementar métodos  nuevos para la clase y probarlos.\n",
    "\n",
    "Empezamos en elejercicio cogiendo la clase ya implementada, y despues introducimos nuevos métodos."
   ]
  },
  {
   "cell_type": "code",
   "execution_count": 1,
   "metadata": {},
   "outputs": [],
   "source": [
    "import math\n",
    "\n",
    "class Complex:\n",
    "    \"\"\" Complex number with module and phase as attributes\n",
    "    \"\"\"\n",
    "        \n",
    "    def __init__(self, mod, phase):\n",
    "        \"\"\" To construct a complex number from the module and the phase\n",
    "        \"\"\"\n",
    "        if (mod < 0): \n",
    "            raise TypeError('module must be zero or positive')\n",
    "        self.mod   = mod\n",
    "        self.phase = phase\n",
    "        return\n",
    "    \n",
    "    def real(self):\n",
    "        \"\"\" return the real part\n",
    "        \"\"\"\n",
    "        real = self.mod * math.cos(self.phase) \n",
    "        return real\n",
    " \n",
    "    def img(self):\n",
    "        \"\"\" return the imaginary part\n",
    "        \"\"\"\n",
    "        img = self.mod * math.sin(self.phase)\n",
    "        return img\n",
    "    \n",
    "    def __abs__(self):\n",
    "        \"\"\" return the module\n",
    "        \"\"\"\n",
    "        return self.mod\n",
    "    \n",
    "    def __add__(self, y):\n",
    "        \"\"\" add to complex numbers <=> x+y\n",
    "        \"\"\"\n",
    "        real = self.real() + y.real()\n",
    "        img  = self.img()  + y.img()\n",
    "        mod  = math.sqrt(real*real + img*img)\n",
    "        phase = 0.\n",
    "        if (mod > 0): \n",
    "            phase = math.acos(real / mod)\n",
    "        return Complex(mod, phase)\n",
    "    \n",
    "    def __mul__(self, y):\n",
    "        \"\"\" the product of two complex numbers: x*y\n",
    "        \"\"\" \n",
    "        mod   = self.mod   * y.mod\n",
    "        phase = self.phase + y.phase\n",
    "        return Complex(mod, phase)\n",
    "        \n",
    "    def conjugate(self):\n",
    "        \"\"\" complex conjugate\n",
    "        \"\"\"\n",
    "        return Complex(self.mod, -1. * self.phase)\n",
    "    \n",
    "    def __str__(self):\n",
    "        \"\"\" convert to a string\n",
    "        \"\"\"\n",
    "        s = str(self.mod) + 'e^' + str(self.phase)\n",
    "        return s\n",
    "  ###########################################################################3  \n",
    "    def div(self, y):\n",
    "        \"\"\" the division of two complex numbers: x/y\n",
    "        \"\"\"\n",
    "        assert isinstance(self, Complex)\n",
    "        mod = self.mod / y.mod\n",
    "        phase = self.phase - y.phase\n",
    "        return Complex(mod, phase)\n",
    "    \n",
    "    def mul_scalar(self, k):\n",
    "        \"\"\" the product of a complex and scalar\n",
    "        \"\"\"\n",
    "        mod = self.mod * k\n",
    "        phase = self.phase\n",
    "        return Complex(mod, phase)\n",
    "    \n",
    "    def pow_scalar(self, k):\n",
    "        \"\"\" the power of a complex and scalar\n",
    "        \"\"\"\n",
    "        mod = self.mod ** k\n",
    "        phase = self.phase * k\n",
    "        return Complex(mod, phase)\n",
    "    \n",
    "    def sum_real(self, k):\n",
    "        \"\"\" addition of a complex number and a real number\n",
    "        \"\"\"\n",
    "        real = self.real() + k\n",
    "        img = self.img()\n",
    "        mod  = math.sqrt(real*real + img*img)\n",
    "        phase = 0\n",
    "        if (mod > 0): \n",
    "            phase = math.acos(real / mod)\n",
    "            \n",
    "        return Complex(mod, phase)\n",
    "    \n",
    "    def inv_real(self):\n",
    "        \"\"\" inverse value of a complex\n",
    "        \"\"\"\n",
    "        mod = 1/self.mod\n",
    "        phase = -1. * self.phase\n",
    "        return Complex(mod, phase)"
   ]
  },
  {
   "cell_type": "markdown",
   "metadata": {},
   "source": [
    "Ahora probamos los nuevos métodos implementados."
   ]
  },
  {
   "cell_type": "code",
   "execution_count": 2,
   "metadata": {},
   "outputs": [
    {
     "name": "stdout",
     "output_type": "stream",
     "text": [
      "\n",
      "La división de dos numeros complejos es:  1.0e^1.5707963267948966\n",
      "\n",
      "La multiplicación de un complejo y un escalar es:  10.0e^3.141592653589793\n",
      "\n",
      "La potencia de un complejo y un escalar es:  4.0e^6.283185307179586\n",
      "\n",
      "El inverso es:  0.5e^-3.141592653589793\n",
      "\n",
      "La suma de un numero complejo y uno real es: 2.4492935982947064e-16e^1.5707963267948966\n"
     ]
    }
   ],
   "source": [
    "x = Complex(2., math.pi)\n",
    "y = Complex(2., math.pi/2)\n",
    "z=x.div(y)\n",
    "z2=x.mul_scalar(5)\n",
    "z3=x.pow_scalar(2)\n",
    "z4=x.sum_real(2)\n",
    "print('\\nLa división de dos numeros complejos es: ', z)\n",
    "print('\\nLa multiplicación de un complejo y un escalar es: ', z2)\n",
    "print('\\nLa potencia de un complejo y un escalar es: ', z3)\n",
    "print('\\nEl inverso es: ', x.inv_real())\n",
    "print('\\nLa suma de un numero complejo y uno real es:', z4)"
   ]
  },
  {
   "cell_type": "code",
   "execution_count": null,
   "metadata": {},
   "outputs": [],
   "source": []
  }
 ],
 "metadata": {
  "kernelspec": {
   "display_name": "Python 3",
   "language": "python",
   "name": "python3"
  },
  "language_info": {
   "codemirror_mode": {
    "name": "ipython",
    "version": 3
   },
   "file_extension": ".py",
   "mimetype": "text/x-python",
   "name": "python",
   "nbconvert_exporter": "python",
   "pygments_lexer": "ipython3",
   "version": "3.8.5"
  }
 },
 "nbformat": 4,
 "nbformat_minor": 4
}
